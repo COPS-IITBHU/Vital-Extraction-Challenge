{
 "cells": [
  {
   "cell_type": "code",
   "execution_count": null,
   "id": "8bfa0961-cdde-415d-8138-15c1f1489387",
   "metadata": {},
   "outputs": [],
   "source": [
    "!pip install albumentations\n",
    "!pip install torchmetrics"
   ]
  },
  {
   "cell_type": "code",
   "execution_count": 1,
   "id": "d516103f-ddc2-41be-8d56-e12d9d41275d",
   "metadata": {},
   "outputs": [],
   "source": [
    "import numpy as np\n",
    "import matplotlib.pyplot as plt\n",
    "import torch\n",
    "import torchvision\n",
    "from torchvision.io import read_image\n",
    "from torchvision.utils import draw_bounding_boxes\n",
    "import cv2\n",
    "import cv2 as cv\n",
    "import os\n",
    "import pathlib\n",
    "import sys\n",
    "from pathlib import Path\n",
    "import albumentations as A\n",
    "from albumentations.pytorch import ToTensorV2\n",
    "from tqdm import tqdm\n",
    "import torchmetrics\n",
    "from Dataloaders import supervised_loader, test_loader, supervised_train_transform, test_transform"
   ]
  },
  {
   "cell_type": "code",
   "execution_count": 2,
   "id": "f7b8a8a3-960a-4327-b697-6992b79df55b",
   "metadata": {},
   "outputs": [],
   "source": [
    "DEVICE = \"cuda\" if torch.cuda.is_available() else \"cpu\""
   ]
  },
  {
   "cell_type": "code",
   "execution_count": 3,
   "id": "30aedfba-4dd9-454d-98d2-bbb1c7c6f30c",
   "metadata": {},
   "outputs": [],
   "source": [
    "import segmentation_models_pytorch as smp\n",
    "\n",
    "model = smp.Unet(\n",
    "    encoder_name=\"resnet34\",        # choose encoder, e.g. mobilenet_v2 or efficientnet-b7\n",
    "    encoder_weights=\"imagenet\",     # use `imagenet` pre-trained weights for encoder initialization\n",
    "    in_channels=3,                  # model input channels (1 for gray-scale images, 3 for RGB, etc.)\n",
    "    classes=1,                      # model output channels (number of classes in your dataset)\n",
    ")\n",
    "\n",
    "model = model.to(DEVICE)\n"
   ]
  },
  {
   "cell_type": "code",
   "execution_count": 4,
   "id": "a236e03e-67bb-420c-8e65-dda3c6abecb9",
   "metadata": {},
   "outputs": [],
   "source": [
    "LEARNING_RATE = 3e-5\n",
    "BATCH_SIZE = 8\n",
    "NUM_EPOCHS = 50\n",
    "NUM_WORKERS = 2\n",
    "IMAGE_HEIGHT = 736 \n",
    "IMAGE_WIDTH = 1280 \n",
    "PIN_MEMORY = True\n",
    "LOAD_MODEL = False\n",
    "TRAIN_IMG_DIR = \"segmentation_data/train_imgs\"\n",
    "TRAIN_MASK_DIR = \"segmentation_data/train_masks\"\n",
    "VAL_IMG_DIR = \"segmentation_data/val_imgs\"\n",
    "VAL_MASK_DIR = \"segmentation_data/val_masks\""
   ]
  },
  {
   "cell_type": "code",
   "execution_count": 5,
   "id": "64053b62-2282-494d-ba9d-102b8cc22cd5",
   "metadata": {},
   "outputs": [],
   "source": [
    "loss_fn = torch.nn.BCEWithLogitsLoss()\n",
    "optimizer = torch.optim.Adam(model.parameters(), lr=LEARNING_RATE)\n",
    "scaler = torch.cuda.amp.GradScaler()"
   ]
  },
  {
   "cell_type": "code",
   "execution_count": 13,
   "id": "a8286e9a-7dba-48e2-9fa2-89d355e9bd2b",
   "metadata": {},
   "outputs": [],
   "source": [
    "# val_data_size = 250\n",
    "# ranset = set()\n",
    "# while (len(ranset) <= val_data_size):\n",
    "#     ranset.add(np.random.randint(0, 2001))"
   ]
  },
  {
   "cell_type": "code",
   "execution_count": 14,
   "id": "843f2151-ad91-4a63-9abd-e3eefbaa7127",
   "metadata": {},
   "outputs": [],
   "source": [
    "# import shutil\n",
    "# import os\n",
    "\n",
    "# imlis = os.listdir(\"images\")\n",
    "# lablis = os.listdir(\"thims\")"
   ]
  },
  {
   "cell_type": "code",
   "execution_count": 15,
   "id": "4d051b4d-a61c-4d70-b74b-9627918d3c32",
   "metadata": {},
   "outputs": [],
   "source": [
    "# for i in ranset:\n",
    "#     shutil.move(f\"images/{imlis[i]}\", \"val_im\")\n",
    "#     shutil.move(f\"thims/{lablis[i]}\", \"val_lab\")"
   ]
  },
  {
   "cell_type": "code",
   "execution_count": 6,
   "id": "2ac25e2e-f3f6-45d0-ad6d-230b5dd94fe3",
   "metadata": {},
   "outputs": [],
   "source": [
    "## loading dataloaders\n",
    "\n",
    "train_data_loader = supervised_loader(image_dir = TRAIN_IMG_DIR, mask_dir= TRAIN_MASK_DIR,\n",
    "                                      transform=supervised_train_transform, batch_size=BATCH_SIZE, shuffle=True, num_workers=4,\n",
    "                                      shape = (IMAGE_WIDTH, IMAGE_HEIGHT))\n",
    "\n",
    "val_data_loader = supervised_loader(image_dir = VAL_IMG_DIR, mask_dir= VAL_MASK_DIR,\n",
    "                                      transform=test_transform, batch_size=BATCH_SIZE, shuffle=False, num_workers = 4,\n",
    "                                      shape = (IMAGE_WIDTH, IMAGE_HEIGHT))"
   ]
  },
  {
   "cell_type": "code",
   "execution_count": 7,
   "id": "21f1b7d2-2322-4bb7-be2b-d5f643feada6",
   "metadata": {},
   "outputs": [
    {
     "name": "stdout",
     "output_type": "stream",
     "text": [
      " Epoch - 1, Training_Loss - 0.2482, Train_mIOU - 0.8993, Training_Loss - 0.1344, val_mIOU - 0.9778\n",
      "Validation mIOU increased from 0 to 0.9778438591957093, Saving Model....\n",
      " Epoch - 2, Training_Loss - 0.1132, Train_mIOU - 0.9798, Training_Loss - 0.0939, val_mIOU - 0.9822\n",
      "Validation mIOU increased from 0.9778438591957093 to 0.9822370767593384, Saving Model....\n",
      " Epoch - 3, Training_Loss - 0.0843, Train_mIOU - 0.9831, Training_Loss - 0.0727, val_mIOU - 0.9848\n",
      "Validation mIOU increased from 0.9822370767593384 to 0.9848112177848816, Saving Model....\n",
      " Epoch - 4, Training_Loss - 0.0667, Train_mIOU - 0.9843, Training_Loss - 0.0582, val_mIOU - 0.9854\n",
      "Validation mIOU increased from 0.9848112177848816 to 0.9853756952285767, Saving Model....\n",
      " Epoch - 5, Training_Loss - 0.0539, Train_mIOU - 0.9852, Training_Loss - 0.0476, val_mIOU - 0.9864\n",
      "Validation mIOU increased from 0.9853756952285767 to 0.9864123439788819, Saving Model....\n",
      " Epoch - 6, Training_Loss - 0.045, Train_mIOU - 0.9857, Training_Loss - 0.0402, val_mIOU - 0.9865\n",
      "Validation mIOU increased from 0.9864123439788819 to 0.9864721608161926, Saving Model....\n",
      " Epoch - 7, Training_Loss - 0.0379, Train_mIOU - 0.9863, Training_Loss - 0.0343, val_mIOU - 0.9869\n",
      "Validation mIOU increased from 0.9864721608161926 to 0.9869104528427124, Saving Model....\n",
      " Epoch - 8, Training_Loss - 0.0327, Train_mIOU - 0.9866, Training_Loss - 0.0299, val_mIOU - 0.987\n",
      "Validation mIOU increased from 0.9869104528427124 to 0.9869707584381103, Saving Model....\n",
      " Epoch - 9, Training_Loss - 0.0288, Train_mIOU - 0.9866, Training_Loss - 0.0264, val_mIOU - 0.987\n",
      "Validation mIOU increased from 0.9869707584381103 to 0.9870114421844483, Saving Model....\n",
      " Epoch - 10, Training_Loss - 0.0254, Train_mIOU - 0.9869, Training_Loss - 0.0235, val_mIOU - 0.9872\n",
      "Validation mIOU increased from 0.9870114421844483 to 0.9872112321853638, Saving Model....\n",
      " Epoch - 11, Training_Loss - 0.0226, Train_mIOU - 0.9872, Training_Loss - 0.0213, val_mIOU - 0.9872\n",
      " Epoch - 12, Training_Loss - 0.0206, Train_mIOU - 0.9873, Training_Loss - 0.0194, val_mIOU - 0.9873\n",
      "Validation mIOU increased from 0.9872112321853638 to 0.9873235273361206, Saving Model....\n",
      " Epoch - 13, Training_Loss - 0.0189, Train_mIOU - 0.9873, Training_Loss - 0.0182, val_mIOU - 0.9869\n",
      " Epoch - 14, Training_Loss - 0.0183, Train_mIOU - 0.9865, Training_Loss - 0.0184, val_mIOU - 0.9855\n",
      " Epoch - 15, Training_Loss - 0.0166, Train_mIOU - 0.987, Training_Loss - 0.0161, val_mIOU - 0.9869\n",
      " Epoch - 16, Training_Loss - 0.0155, Train_mIOU - 0.9872, Training_Loss - 0.0149, val_mIOU - 0.9873\n",
      " Epoch - 17, Training_Loss - 0.0146, Train_mIOU - 0.9874, Training_Loss - 0.0143, val_mIOU - 0.9872\n",
      " Epoch - 18, Training_Loss - 0.0138, Train_mIOU - 0.9875, Training_Loss - 0.0136, val_mIOU - 0.9873\n",
      " Epoch - 19, Training_Loss - 0.0131, Train_mIOU - 0.9876, Training_Loss - 0.0131, val_mIOU - 0.9872\n",
      " Epoch - 20, Training_Loss - 0.0126, Train_mIOU - 0.9877, Training_Loss - 0.0126, val_mIOU - 0.9873\n",
      " Epoch - 21, Training_Loss - 0.0121, Train_mIOU - 0.9877, Training_Loss - 0.0122, val_mIOU - 0.9873\n",
      "Validation mIOU increased from 0.9873235273361206 to 0.9873373651504517, Saving Model....\n",
      " Epoch - 22, Training_Loss - 0.0117, Train_mIOU - 0.9877, Training_Loss - 0.0121, val_mIOU - 0.987\n",
      " Epoch - 23, Training_Loss - 0.0114, Train_mIOU - 0.9877, Training_Loss - 0.0114, val_mIOU - 0.9875\n",
      "Validation mIOU increased from 0.9873373651504517 to 0.9874817609786988, Saving Model....\n",
      " Epoch - 24, Training_Loss - 0.011, Train_mIOU - 0.9878, Training_Loss - 0.0113, val_mIOU - 0.9873\n",
      " Epoch - 25, Training_Loss - 0.0108, Train_mIOU - 0.9878, Training_Loss - 0.0112, val_mIOU - 0.9872\n",
      " Epoch - 26, Training_Loss - 0.0105, Train_mIOU - 0.9879, Training_Loss - 0.0109, val_mIOU - 0.9874\n",
      " Epoch - 27, Training_Loss - 0.0104, Train_mIOU - 0.9878, Training_Loss - 0.0106, val_mIOU - 0.9875\n",
      "Validation mIOU increased from 0.9874817609786988 to 0.9875198888778687, Saving Model....\n",
      " Epoch - 28, Training_Loss - 0.0101, Train_mIOU - 0.988, Training_Loss - 0.0104, val_mIOU - 0.9876\n",
      "Validation mIOU increased from 0.9875198888778687 to 0.987580816745758, Saving Model....\n",
      " Epoch - 29, Training_Loss - 0.0099, Train_mIOU - 0.988, Training_Loss - 0.0104, val_mIOU - 0.9875\n",
      " Epoch - 30, Training_Loss - 0.0097, Train_mIOU - 0.988, Training_Loss - 0.0103, val_mIOU - 0.9873\n",
      " Epoch - 31, Training_Loss - 0.0095, Train_mIOU - 0.9882, Training_Loss - 0.01, val_mIOU - 0.9876\n",
      "Validation mIOU increased from 0.987580816745758 to 0.9875834178924561, Saving Model....\n",
      " Epoch - 32, Training_Loss - 0.0094, Train_mIOU - 0.9882, Training_Loss - 0.01, val_mIOU - 0.9875\n",
      " Epoch - 33, Training_Loss - 0.0093, Train_mIOU - 0.9882, Training_Loss - 0.01, val_mIOU - 0.9874\n",
      " Epoch - 34, Training_Loss - 0.0095, Train_mIOU - 0.9879, Training_Loss - 0.01, val_mIOU - 0.9873\n",
      " Epoch - 35, Training_Loss - 0.0106, Train_mIOU - 0.987, Training_Loss - 0.0102, val_mIOU - 0.9872\n",
      " Epoch - 36, Training_Loss - 0.0098, Train_mIOU - 0.9873, Training_Loss - 0.0106, val_mIOU - 0.9866\n",
      " Epoch - 37, Training_Loss - 0.0093, Train_mIOU - 0.9879, Training_Loss - 0.0097, val_mIOU - 0.9875\n",
      " Epoch - 38, Training_Loss - 0.0091, Train_mIOU - 0.9881, Training_Loss - 0.0096, val_mIOU - 0.9876\n",
      " Epoch - 39, Training_Loss - 0.0089, Train_mIOU - 0.9882, Training_Loss - 0.0095, val_mIOU - 0.9876\n",
      "Validation mIOU increased from 0.9875834178924561 to 0.9876294779777527, Saving Model....\n",
      " Epoch - 40, Training_Loss - 0.0088, Train_mIOU - 0.9883, Training_Loss - 0.0094, val_mIOU - 0.9876\n",
      "Validation mIOU increased from 0.9876294779777527 to 0.987647557258606, Saving Model....\n",
      " Epoch - 41, Training_Loss - 0.0087, Train_mIOU - 0.9884, Training_Loss - 0.0095, val_mIOU - 0.9876\n",
      " Epoch - 42, Training_Loss - 0.0087, Train_mIOU - 0.9885, Training_Loss - 0.0096, val_mIOU - 0.9874\n",
      " Epoch - 43, Training_Loss - 0.0086, Train_mIOU - 0.9885, Training_Loss - 0.0095, val_mIOU - 0.9876\n",
      " Epoch - 44, Training_Loss - 0.0084, Train_mIOU - 0.9886, Training_Loss - 0.0096, val_mIOU - 0.9874\n",
      " Epoch - 45, Training_Loss - 0.0085, Train_mIOU - 0.9886, Training_Loss - 0.0094, val_mIOU - 0.9876\n",
      " Epoch - 46, Training_Loss - 0.0084, Train_mIOU - 0.9886, Training_Loss - 0.0094, val_mIOU - 0.9875\n",
      " Epoch - 47, Training_Loss - 0.0084, Train_mIOU - 0.9886, Training_Loss - 0.0099, val_mIOU - 0.9869\n",
      " Epoch - 48, Training_Loss - 0.0084, Train_mIOU - 0.9886, Training_Loss - 0.0096, val_mIOU - 0.9874\n",
      " Epoch - 49, Training_Loss - 0.0083, Train_mIOU - 0.9886, Training_Loss - 0.0093, val_mIOU - 0.9875\n",
      " Epoch - 50, Training_Loss - 0.0082, Train_mIOU - 0.9889, Training_Loss - 0.0097, val_mIOU - 0.9873\n"
     ]
    }
   ],
   "source": [
    "iou_fn = torchmetrics.classification.JaccardIndex(task = 'binary', threshold = 0., num_classes = 2)\n",
    "\n",
    "epochs = (range(NUM_EPOCHS))\n",
    "\n",
    "val_loss = []\n",
    "train_loss = []\n",
    "\n",
    "train_iou = []\n",
    "val_iou = []\n",
    "\n",
    "max_val_iou = 0\n",
    "for epoch in epochs:\n",
    "    \n",
    "    total_val_loss = 0\n",
    "    total_train_loss = 0\n",
    "    total_train_iou = 0\n",
    "    total_val_iou = 0\n",
    "    \n",
    "    ## training part\n",
    "\n",
    "    for batch_idx, (data, targets) in enumerate(train_data_loader):\n",
    "        data = data.to(device=DEVICE)\n",
    "        targets = targets.float().unsqueeze(1).to(device=DEVICE)\n",
    "\n",
    "        # forward\n",
    "        with torch.cuda.amp.autocast():\n",
    "            predictions = model(data)\n",
    "            loss = loss_fn(predictions, targets)\n",
    "\n",
    "        # backward\n",
    "        optimizer.zero_grad()\n",
    "        scaler.scale(loss).backward()\n",
    "        scaler.step(optimizer)\n",
    "        scaler.update()\n",
    "\n",
    "        iou_train = iou_fn(predictions.to(\"cpu\"), ((targets > 0)*1).to(\"cpu\"))\n",
    "        total_train_iou += iou_train.item()\n",
    "        # loop.set_postfix(loss=loss.item(), iou_loss = iou_train_loss)\n",
    "        total_train_loss += loss.item()\n",
    "        print(f\" Epoch - {epoch+1}, Step - {batch_idx+1}/{len(train_data_loader)}, Training_Loss - {round(total_train_loss/(batch_idx+1), 4)}, Train_mIOU - {round(total_train_iou/(batch_idx+1), 4)}\", end=\"\\r\")\n",
    "    total_train_loss = total_train_loss/(batch_idx+1)\n",
    "    total_train_iou = total_train_iou/(batch_idx+1)\n",
    "    train_loss.append(total_train_loss)\n",
    "    train_iou.append(total_train_iou)\n",
    "\n",
    "    with torch.no_grad():\n",
    "        for batch_idx, (data, targets) in enumerate(val_data_loader):\n",
    "            data = data.to(device=DEVICE)\n",
    "            targets = targets.float().unsqueeze(1).to(device=DEVICE)\n",
    "\n",
    "            predictions = model(data)\n",
    "            loss = loss_fn(predictions, targets)\n",
    "            total_val_loss += loss.item()\n",
    "            iou_val = iou_fn(predictions.to(\"cpu\"), ((targets > 0)*1).to(\"cpu\"))\n",
    "            total_val_iou += iou_val.item()\n",
    "            # val_loop.set_postfix(val_loss=loss.item(), iou_loss = iou_val_loss)\n",
    "    total_val_loss = total_val_loss/(batch_idx+1)\n",
    "    total_val_iou = total_val_iou/(batch_idx+1)\n",
    "    val_loss.append(total_val_loss)\n",
    "    val_iou.append(total_val_iou)\n",
    "    print(f\" Epoch - {epoch+1}, Training_Loss - {round(total_train_loss, 4)}, Train_mIOU - {round(total_train_iou, 4)}, Training_Loss - {round(total_val_loss, 4)}, val_mIOU - {round(total_val_iou, 4)}\")\n",
    "\n",
    "    if total_val_iou>max_val_iou:\n",
    "        print(f\"Validation mIOU increased from {max_val_iou} to {total_val_iou}, Saving Model....\")\n",
    "        torch.save(model.state_dict(), \"best_model.ckpt\")\n",
    "        max_val_iou = total_val_iou"
   ]
  },
  {
   "cell_type": "code",
   "execution_count": 8,
   "id": "66f362f0-70f9-4db4-a29f-e81c723be43b",
   "metadata": {},
   "outputs": [
    {
     "data": {
      "image/png": "[encoded data removed]",
      "text/plain": [
       "<Figure size 640x480 with 1 Axes>"
      ]
     },
     "metadata": {},
     "output_type": "display_data"
    }
   ],
   "source": [
    "plt.plot(train_loss, label=\"train-loss\")\n",
    "plt.plot(val_loss, label=\"validation-loss\")\n",
    "plt.legend()\n",
    "plt.savefig(\"results/supervised_unet_loss.png\")"
   ]
  },
  {
   "cell_type": "code",
   "execution_count": 9,
   "id": "e2cb6fa7-a77d-427c-87f1-95f967a62f02",
   "metadata": {},
   "outputs": [
    {
     "data": {
      "image/png": "[encoded data removed]",
      "text/plain": [
       "<Figure size 640x480 with 1 Axes>"
      ]
     },
     "metadata": {},
     "output_type": "display_data"
    }
   ],
   "source": [
    "plt.plot(train_iou, label = \"training-mIOU\")\n",
    "plt.plot(val_iou, label = \"validation-mIOU\")\n",
    "plt.legend()\n",
    "plt.savefig(\"results/supervised_unet_miou.png\")"
   ]
  },
  {
   "cell_type": "code",
   "execution_count": null,
   "id": "f2234437-7eb1-4c24-a699-53ce9efa2bee",
   "metadata": {},
   "outputs": [],
   "source": []
  }
 ],
 "metadata": {
  "kernelspec": {
   "display_name": "Python [conda env:notebook] *",
   "language": "python",
   "name": "conda-env-notebook-py"
  },
  "language_info": {
   "codemirror_mode": {
    "name": "ipython",
    "version": 3
   },
   "file_extension": ".py",
   "mimetype": "text/x-python",
   "name": "python",
   "nbconvert_exporter": "python",
   "pygments_lexer": "ipython3",
   "version": "3.9.13"
  }
 },
 "nbformat": 4,
 "nbformat_minor": 5
}
