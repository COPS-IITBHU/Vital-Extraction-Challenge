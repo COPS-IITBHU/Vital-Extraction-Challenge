{
 "cells": [
  {
   "cell_type": "code",
   "execution_count": 1,
   "id": "4d6048c0-5462-44db-9f01-1b4f83c0011f",
   "metadata": {},
   "outputs": [
    {
     "name": "stdout",
     "output_type": "stream",
     "text": [
      "[2023/02/06 17:39:46] ppocr DEBUG: Namespace(alpha=1.0, benchmark=False, beta=1.0, cls_batch_num=6, cls_image_shape='3, 48, 192', cls_model_dir='/home/drobot/.paddleocr/whl/cls/ch_ppocr_mobile_v2.0_cls_infer', cls_thresh=0.9, cpu_threads=10, crop_res_save_dir='./output', det=True, det_algorithm='DB', det_box_type='quad', det_db_box_thresh=0.6, det_db_score_mode='fast', det_db_thresh=0.3, det_db_unclip_ratio=1.5, det_east_cover_thresh=0.1, det_east_nms_thresh=0.2, det_east_score_thresh=0.8, det_limit_side_len=960, det_limit_type='max', det_model_dir='/home/drobot/.paddleocr/whl/det/en/en_PP-OCRv3_det_infer', det_pse_box_thresh=0.85, det_pse_min_area=16, det_pse_scale=1, det_pse_thresh=0, det_sast_nms_thresh=0.2, det_sast_score_thresh=0.5, draw_img_save_dir='./inference_results', drop_score=0.4, e2e_algorithm='PGNet', e2e_char_dict_path='./ppocr/utils/ic15_dict.txt', e2e_limit_side_len=768, e2e_limit_type='max', e2e_model_dir=None, e2e_pgnet_mode='fast', e2e_pgnet_score_thresh=0.5, e2e_pgnet_valid_set='totaltext', enable_mkldnn=False, fourier_degree=5, gpu_mem=500, help='==SUPPRESS==', image_dir=None, image_orientation=False, ir_optim=True, kie_algorithm='LayoutXLM', label_list=['0', '180'], lang='en', layout=True, layout_dict_path=None, layout_model_dir=None, layout_nms_threshold=0.5, layout_score_threshold=0.5, max_batch_size=10, max_text_length=25, merge_no_span_structure=True, min_subgraph_size=15, mode='structure', ocr=True, ocr_order_method=None, ocr_version='PP-OCRv3', output='./output', page_num=0, precision='fp32', process_id=0, re_model_dir=None, rec=True, rec_algorithm='SVTR_LCNet', rec_batch_num=6, rec_char_dict_path='/home/drobot/Documents/iot_ec423_paper/venv/lib/python3.8/site-packages/paddleocr/ppocr/utils/en_dict.txt', rec_image_inverse=True, rec_image_shape='3, 48, 320', rec_model_dir='/home/drobot/.paddleocr/whl/rec/en/en_PP-OCRv3_rec_infer', recovery=False, save_crop_res=False, save_log_path='./log_output/', scales=[8, 16, 32], ser_dict_path='../train_data/XFUND/class_list_xfun.txt', ser_model_dir=None, show_log=True, sr_batch_num=1, sr_image_shape='3, 32, 128', sr_model_dir=None, structure_version='PP-StructureV2', table=True, table_algorithm='TableAttn', table_char_dict_path=None, table_max_len=488, table_model_dir=None, total_process_num=1, type='ocr', use_angle_cls=False, use_dilation=False, use_gpu=False, use_mp=False, use_npu=False, use_onnx=False, use_pdf2docx_api=False, use_pdserving=False, use_space_char=True, use_tensorrt=False, use_visual_backbone=True, use_xpu=False, vis_font_path='./doc/fonts/simfang.ttf', warmup=False)\n",
      "CPU times: user 9.35 s, sys: 3.86 s, total: 13.2 s\n",
      "Wall time: 9.08 s\n"
     ]
    }
   ],
   "source": [
    "%%time\n",
    "## STANDARD LIBRARY AND PIPELINE MODULES IMPORT\n",
    "import warnings\n",
    "warnings.filterwarnings(\"ignore\")\n",
    "from pipeline import segmentation\n",
    "from pipeline import correct_perspective\n",
    "from pipeline.rules import ru, find_nearby\n",
    "from pipeline import OCR\n",
    "from pipeline import classifier\n",
    "import os\n",
    "import re\n",
    "import cv2\n",
    "import numpy as np\n",
    "import matplotlib.pyplot as plt"
   ]
  },
  {
   "cell_type": "code",
   "execution_count": 59,
   "id": "63f59cca-1480-47e7-9c35-39a278fb9c60",
   "metadata": {
    "scrolled": true
   },
   "outputs": [],
   "source": [
    "def inference(image_path):\n",
    "    image = cv2.cvtColor(cv2.imread(imloc), cv2.COLOR_BGR2RGB)\n",
    "    # ocr_io = cv2.resize(image, (320, 180))\n",
    "    # class_io = cv2.resize(image, (640, 360))\n",
    "\n",
    "\n",
    "    mask = segmentation.maskPred(image)\n",
    "    # # # print(mask)\n",
    "    (ocr_io, class_io, orig_io) =  correct_perspective.correctPerspective(image, mask)\n",
    "    label = classifier.classification(class_io) \n",
    "\n",
    "    #label = 2\n",
    "    if label==1:\n",
    "        candidates =  OCR.get_text(class_io, det=True)\n",
    "        ocr_io = class_io\n",
    "    elif label == 3:\n",
    "        # kernel = np.array([[-1,-1,-1], [-1,9,-1], [-1,-1,-1]])\n",
    "        # ocr_io = cv2.filter2D(ocr_io, -1, kernel)\n",
    "        \n",
    "        candidates =  OCR.get_text(ocr_io[:, :115], det=True)\n",
    "    else:\n",
    "        print(\"here\")\n",
    "        candidates =  OCR.get_text(ocr_io, det=True)\n",
    "    can = candidates[0]\n",
    "    # plt.imshow(ocr_io[:, :115])\n",
    "    # plt.show()\n",
    "\n",
    "    result = {}\n",
    "    hr_boxes = []\n",
    "\n",
    "    boxes = []\n",
    "    yellow_boxes = []\n",
    "    slash_box = []\n",
    "    for line in can:\n",
    "        bbox = line[0]\n",
    "        txt = line[1][0]\n",
    "        confidence = line[1][1]\n",
    "        \n",
    "        x1, y1, x2, y2 = int(bbox[0][0]),int(bbox[0][1]) , int(bbox[2][0]),int(bbox[2][1])\n",
    "        cropped = ocr_io[y1: y2, x1:x2]\n",
    "        # print(x1, y1,x2,y2)\n",
    "        # print(txt)\n",
    "        # plt.imshow(cropped)\n",
    "        # plt.show()\n",
    "        pred = ru.class_pred(txt, cropped, label)\n",
    "        if len(re.findall(\"^/\\d+\", txt.strip()))>0:\n",
    "            slash_box = [(x1+x2)/2, (y1+y2)/2, x2-x1,y2-y1, txt]\n",
    "        else:\n",
    "            boxes.append([(x1+x2)/2, (y1+y2)/2, x2-x1,y2-y1, txt ])\n",
    "        if len(pred)>0:\n",
    "            clas = pred[0]\n",
    "            if(clas==\"BP\"):\n",
    "                result[pred[1][0][0]] = pred[1][0][1]\n",
    "                result[pred[1][1][0]] = pred[1][1][1]\n",
    "            elif(clas == 'HR'):\n",
    "                hr_boxes.append([cropped.shape[0]*cropped.shape[1], [x1,y1,x2,y2], pred])\n",
    "            elif(clas == 'cyan'):\n",
    "                if label == 1:\n",
    "                    result['RR'] = pred[1]\n",
    "                elif label==0 or label == 2: \n",
    "                    result['SPO2'] = pred[1]\n",
    "            elif(clas=='yellow'):\n",
    "                if label == 1:\n",
    "                    yellow_boxes.append([(y1+y2)/2, cropped.shape[0]*cropped.shape[1], [x1,y1,x2,y2], txt])\n",
    "                elif label == 0 or label == 2:\n",
    "                    result['RR'] = txt\n",
    "                elif label == 3:\n",
    "                    result['SPO2'] = txt\n",
    "                    \n",
    "    #         print(txt ,\"-\", len(pred))\n",
    "    yellow_boxes = sorted(yellow_boxes, key=lambda x: x[0], reverse=True)\n",
    "    hr_boxes = sorted(hr_boxes, key=lambda x: x[0], reverse=True)\n",
    "\n",
    "    if label == 1 and len(yellow_boxes) > 0:\n",
    "        result['SPO2'] = yellow_boxes[0][3]\n",
    "\n",
    "    if len(hr_boxes)>0:\n",
    "        x1,y1,x2,y2 = hr_boxes[0][1]\n",
    "        hr = (hr_boxes[0][2][1][0])\n",
    "        a = re.findall('^\\d+', hr)\n",
    "        hr = int(a[0])\n",
    "        if int(a[0][:3]) > 220:\n",
    "            hr = int(a[0][:2])\n",
    "        elif int(a[0]) > 300:\n",
    "            hr = int(a[0][:3])\n",
    "        result['HR'] = hr\n",
    "    #         plt.imshow(ocr_io[y1: y2, x1:x2])\n",
    "    #         plt.show()\n",
    "\n",
    "    if len(slash_box) > 0:\n",
    "        index = find_nearby(slash_box, boxes)\n",
    "        x, y, w, h, pred = boxes[index]\n",
    "        \n",
    "        result['SBP'] = pred.strip()\n",
    "        result['DBP'] = slash_box[-1][1:]\n",
    "\n",
    "    boxes = sorted(boxes, key= lambda x: x[1], reverse=True)\n",
    "    if label == 3:\n",
    "        for (x,y,w,h,pred) in boxes:\n",
    "            if w*h > 200:\n",
    "                if pred[1] == 'T':\n",
    "                    pred = pred[0] + '7'\n",
    "                result['RR'] = pred\n",
    "                break\n",
    "\n",
    "\n",
    "\n",
    "    print(result)"
   ]
  },
  {
   "cell_type": "code",
   "execution_count": 61,
   "id": "8aa8045d",
   "metadata": {},
   "outputs": [
    {
     "name": "stdout",
     "output_type": "stream",
     "text": [
      "[2023/02/06 18:36:23] ppocr WARNING: Since the angle classifier is not initialized, the angle classifier will not be uesd during the forward process\n",
      "[2023/02/06 18:36:23] ppocr DEBUG: dt_boxes num : 6, elapse : 0.03696918487548828\n",
      "[2023/02/06 18:36:24] ppocr DEBUG: rec_res num  : 6, elapse : 0.49719977378845215\n",
      "{'HR': 70, 'RR': '21'}\n",
      "CPU times: user 4.42 s, sys: 92.9 ms, total: 4.52 s\n",
      "Wall time: 1.04 s\n"
     ]
    }
   ],
   "source": [
    "%%time\n",
    "## EVALUATION ON EACH IMAGE\n",
    "img_classes = [ 'BPL-EliteView-EV10-B_Meditec-England-A', 'BPL-EliteView-EV100-C' , 'BPL-Ultima-PrimeD-A' , 'Nihon-Kohden-lifescope-A']\n",
    "TEST_IMG_DIR = f\"val/{img_classes[0]}\"\n",
    "\n",
    "imlis = os.listdir(TEST_IMG_DIR)\n",
    "imloc = f\"{TEST_IMG_DIR}/{imlis[5]}\"\n",
    "imloc = \"test_data/tridevdeoghar_icu_mon--4_2023_1_5_0_20_2.jpeg\"\n",
    "inference(imloc)"
   ]
  },
  {
   "cell_type": "code",
   "execution_count": null,
   "id": "75253bde",
   "metadata": {},
   "outputs": [],
   "source": []
  }
 ],
 "metadata": {
  "kernelspec": {
   "display_name": "Python 3.8.10 64-bit",
   "language": "python",
   "name": "python3"
  },
  "language_info": {
   "codemirror_mode": {
    "name": "ipython",
    "version": 3
   },
   "file_extension": ".py",
   "mimetype": "text/x-python",
   "name": "python",
   "nbconvert_exporter": "python",
   "pygments_lexer": "ipython3",
   "version": "3.8.10"
  },
  "vscode": {
   "interpreter": {
    "hash": "916dbcbb3f70747c44a77c7bcd40155683ae19c65e1c03b4aa3499c5328201f1"
   }
  }
 },
 "nbformat": 4,
 "nbformat_minor": 5
}
