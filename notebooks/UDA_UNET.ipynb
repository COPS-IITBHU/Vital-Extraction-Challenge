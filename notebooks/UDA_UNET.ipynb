{
 "cells": [
  {
   "cell_type": "code",
   "execution_count": 1,
   "id": "d516103f-ddc2-41be-8d56-e12d9d41275d",
   "metadata": {},
   "outputs": [],
   "source": [
    "import numpy as np\n",
    "import matplotlib.pyplot as plt\n",
    "import torch\n",
    "import torchvision\n",
    "from torchvision.io import read_image\n",
    "from torchvision.utils import draw_bounding_boxes\n",
    "import cv2\n",
    "import cv2 as cv\n",
    "import os\n",
    "import pathlib\n",
    "import sys\n",
    "from pathlib import Path\n",
    "import albumentations as A\n",
    "from albumentations.pytorch import ToTensorV2\n",
    "from tqdm import tqdm\n",
    "import torchmetrics\n",
    "from Dataloaders import supervised_loader, test_loader, unsupervised_loader, supervised_train_transform, test_transform, uda_train_transform, geometrical_transform"
   ]
  },
  {
   "cell_type": "code",
   "execution_count": 2,
   "id": "f7b8a8a3-960a-4327-b697-6992b79df55b",
   "metadata": {},
   "outputs": [],
   "source": [
    "DEVICE = \"cuda\" if torch.cuda.is_available() else \"cpu\""
   ]
  },
  {
   "cell_type": "code",
   "execution_count": 3,
   "id": "30aedfba-4dd9-454d-98d2-bbb1c7c6f30c",
   "metadata": {},
   "outputs": [],
   "source": [
    "import segmentation_models_pytorch as smp\n",
    "\n",
    "model = smp.Unet(\n",
    "    encoder_name=\"resnet34\",        # choose encoder, e.g. mobilenet_v2 or efficientnet-b7\n",
    "    encoder_weights=\"imagenet\",     # use `imagenet` pre-trained weights for encoder initialization\n",
    "    in_channels=3,                  # model input channels (1 for gray-scale images, 3 for RGB, etc.)\n",
    "    classes=1,                      # model output channels (number of classes in your dataset)\n",
    ")\n",
    "\n",
    "model = model.to(DEVICE)\n"
   ]
  },
  {
   "cell_type": "code",
   "execution_count": 4,
   "id": "a236e03e-67bb-420c-8e65-dda3c6abecb9",
   "metadata": {},
   "outputs": [],
   "source": [
    "LEARNING_RATE = 3e-5\n",
    "BATCH_SIZE = 6\n",
    "UNSUP_BATCH_SIZE = 16\n",
    "NUM_EPOCHS = 25\n",
    "NUM_WORKERS = 2\n",
    "IMAGE_HEIGHT = 320\n",
    "IMAGE_WIDTH = 640\n",
    "PIN_MEMORY = True\n",
    "LOAD_MODEL = False\n",
    "LAMBDA = 0.3\n",
    "TRAIN_IMG_DIR = \"segmentation_data/train_imgs\"\n",
    "TRAIN_MASK_DIR = \"segmentation_data/train_masks\"\n",
    "VAL_IMG_DIR = \"segmentation_data/val_imgs\"\n",
    "VAL_MASK_DIR = \"segmentation_data/val_masks\"\n",
    "UNSUPERVISED_DIR = \"unlabelled\""
   ]
  },
  {
   "cell_type": "code",
   "execution_count": 5,
   "id": "64053b62-2282-494d-ba9d-102b8cc22cd5",
   "metadata": {},
   "outputs": [],
   "source": [
    "loss_fn = torch.nn.BCEWithLogitsLoss()\n",
    "optimizer = torch.optim.Adam(model.parameters(), lr=LEARNING_RATE)\n",
    "lambda1 = lambda epoch: 0.9 ** epoch\n",
    "scheduler = torch.optim.lr_scheduler.LambdaLR(optimizer, lr_lambda=lambda1)\n",
    "scaler = torch.cuda.amp.GradScaler()"
   ]
  },
  {
   "cell_type": "code",
   "execution_count": 6,
   "id": "2ac25e2e-f3f6-45d0-ad6d-230b5dd94fe3",
   "metadata": {},
   "outputs": [],
   "source": [
    "## loading dataloaders\n",
    "\n",
    "train_data_loader = supervised_loader(image_dir = TRAIN_IMG_DIR, mask_dir= TRAIN_MASK_DIR,\n",
    "                                      transform=supervised_train_transform, batch_size=BATCH_SIZE, shuffle=True, num_workers=4,\n",
    "                                      shape = (IMAGE_WIDTH, IMAGE_HEIGHT))\n",
    "\n",
    "val_data_loader = supervised_loader(image_dir = VAL_IMG_DIR, mask_dir= VAL_MASK_DIR,\n",
    "                                      transform=test_transform, batch_size=BATCH_SIZE, shuffle=False, num_workers = 4,\n",
    "                                      shape = (IMAGE_WIDTH, IMAGE_HEIGHT))\n",
    "uda_data_loader = unsupervised_loader(image_dir = UNSUPERVISED_DIR,\n",
    "                                      transform=uda_train_transform, geometrical_transform= geometrical_transform, \n",
    "                                      batch_size=UNSUP_BATCH_SIZE, shuffle=True, num_workers = 4,\n",
    "                                      shape = (IMAGE_WIDTH, IMAGE_HEIGHT))"
   ]
  },
  {
   "cell_type": "code",
   "execution_count": 7,
   "id": "32d29b5e",
   "metadata": {},
   "outputs": [],
   "source": [
    "label_train_iter = iter(train_data_loader)"
   ]
  },
  {
   "cell_type": "code",
   "execution_count": 8,
   "id": "21f1b7d2-2322-4bb7-be2b-d5f643feada6",
   "metadata": {},
   "outputs": [
    {
     "name": "stdout",
     "output_type": "stream",
     "text": [
      " Epoch - 1, Training_Loss - -3.9207, Train_mIOU - 0.7611, Validation_Loss - 0.1134, val_mIOU - 0.9582\n",
      "Validation mIOU increased from 0 to 0.9581610613009509, Saving Model....\n",
      " Epoch - 2, Training_Loss - -10.0918, Train_mIOU - 0.9632, Validation_Loss - 0.0461, val_mIOU - 0.9758\n",
      "Validation mIOU increased from 0.9581610613009509 to 0.975765198469162, Saving Model....\n",
      " Epoch - 3, Training_Loss - -16.9582, Train_mIOU - 0.9747, Validation_Loss - 0.026, val_mIOU - 0.9803\n",
      "Validation mIOU increased from 0.975765198469162 to 0.9802659539615407, Saving Model....\n",
      " Epoch - 4, Training_Loss - -24.8654, Train_mIOU - 0.9774, Validation_Loss - 0.0187, val_mIOU - 0.9817\n",
      "Validation mIOU increased from 0.9802659539615407 to 0.9817152286277098, Saving Model....\n",
      " Epoch - 5, Training_Loss - -33.4034, Train_mIOU - 0.9811, Validation_Loss - 0.0151, val_mIOU - 0.9835\n",
      "Validation mIOU increased from 0.9817152286277098 to 0.983518057009753, Saving Model....\n",
      " Epoch - 6, Training_Loss - -42.1909, Train_mIOU - 0.982, Validation_Loss - 0.0141, val_mIOU - 0.9836\n",
      "Validation mIOU increased from 0.983518057009753 to 0.9836075411123388, Saving Model....\n",
      " Epoch - 7, Training_Loss - -50.9935, Train_mIOU - 0.9825, Validation_Loss - 0.0134, val_mIOU - 0.9839\n",
      "Validation mIOU increased from 0.9836075411123388 to 0.9839445001938764, Saving Model....\n",
      " Epoch - 8, Training_Loss - -59.509, Train_mIOU - 0.9833, Validation_Loss - 0.0126, val_mIOU - 0.98463\n",
      "Validation mIOU increased from 0.9839445001938764 to 0.9845962454290951, Saving Model....\n",
      " Epoch - 9, Training_Loss - -67.767, Train_mIOU - 0.9836, Validation_Loss - 0.0122, val_mIOU - 0.98487\n",
      "Validation mIOU increased from 0.9845962454290951 to 0.9848141354673049, Saving Model....\n",
      " Epoch - 10, Training_Loss - -75.5502, Train_mIOU - 0.9837, Validation_Loss - 0.012, val_mIOU - 0.98497\n",
      "Validation mIOU increased from 0.9848141354673049 to 0.9849317459499135, Saving Model....\n",
      " Epoch - 11, Training_Loss - -82.886, Train_mIOU - 0.9834, Validation_Loss - 0.0127, val_mIOU - 0.98454\n",
      " Epoch - 12, Training_Loss - -89.7009, Train_mIOU - 0.9838, Validation_Loss - 0.0116, val_mIOU - 0.9853\n",
      "Validation mIOU increased from 0.9849317459499135 to 0.9852634983904222, Saving Model....\n",
      " Epoch - 13, Training_Loss - -96.0626, Train_mIOU - 0.9845, Validation_Loss - 0.0115, val_mIOU - 0.9855\n",
      "Validation mIOU increased from 0.9852634983904222 to 0.9854825664969051, Saving Model....\n",
      " Epoch - 14, Training_Loss - -101.9143, Train_mIOU - 0.9846, Validation_Loss - 0.0114, val_mIOU - 0.9855\n",
      "Validation mIOU increased from 0.9854825664969051 to 0.9855161361834582, Saving Model....\n",
      " Epoch - 15, Training_Loss - -107.2887, Train_mIOU - 0.9846, Validation_Loss - 0.0114, val_mIOU - 0.9856\n",
      "Validation mIOU increased from 0.9855161361834582 to 0.9855824516100042, Saving Model....\n",
      " Epoch - 16, Training_Loss - -112.271, Train_mIOU - 0.9844, Validation_Loss - 0.0113, val_mIOU - 0.9856\n",
      "Validation mIOU increased from 0.9855824516100042 to 0.9855874128201428, Saving Model....\n",
      " Epoch - 17, Training_Loss - -116.8227, Train_mIOU - 0.9848, Validation_Loss - 0.0114, val_mIOU - 0.9855\n",
      " Epoch - 18, Training_Loss - -120.953, Train_mIOU - 0.9847, Validation_Loss - 0.0112, val_mIOU - 0.9857\n",
      "Validation mIOU increased from 0.9855874128201428 to 0.9857083611628589, Saving Model....\n",
      " Epoch - 19, Training_Loss - -124.7336, Train_mIOU - 0.9848, Validation_Loss - 0.0112, val_mIOU - 0.9857\n",
      " Epoch - 20, Training_Loss - -128.1975, Train_mIOU - 0.9849, Validation_Loss - 0.0111, val_mIOU - 0.9858\n",
      "Validation mIOU increased from 0.9857083611628589 to 0.9857704131042256, Saving Model....\n",
      " Epoch - 21, Training_Loss - -131.3223, Train_mIOU - 0.9848, Validation_Loss - 0.0111, val_mIOU - 0.9858\n",
      " Epoch - 22, Training_Loss - -134.2942, Train_mIOU - 0.9849, Validation_Loss - 0.0111, val_mIOU - 0.9857\n",
      " Epoch - 23, Training_Loss - -137.32, Train_mIOU - 0.9852, Validation_Loss - 0.0113, val_mIOU - 0.985652\n",
      " Epoch - 24, Training_Loss - -144.989, Train_mIOU - 0.9826, Validation_Loss - 0.0116, val_mIOU - 0.9855\n",
      " Epoch - 25, Training_Loss - -147.5169, Train_mIOU - 0.9843, Validation_Loss - 0.0115, val_mIOU - 0.9856\n"
     ]
    }
   ],
   "source": [
    "iou_fn = torchmetrics.classification.JaccardIndex(task = 'binary', threshold = 0., num_classes = 2)\n",
    "\n",
    "epochs = (range(NUM_EPOCHS))\n",
    "\n",
    "val_loss = []\n",
    "train_loss = []\n",
    "\n",
    "train_iou = []\n",
    "val_iou = []\n",
    "\n",
    "max_val_iou = 0\n",
    "for epoch in epochs:\n",
    "    \n",
    "    total_val_loss = 0\n",
    "    total_train_loss = 0\n",
    "    total_train_iou = 0\n",
    "    total_val_iou = 0\n",
    "    \n",
    "    ## training part\n",
    "\n",
    "    for batch_idx, (un_img, un_aug_img) in enumerate(uda_data_loader):\n",
    "        ## UNSUPERVISED DATA\n",
    "        un_img = un_img.to(device=DEVICE)\n",
    "        un_aug_img = un_aug_img.to(device=DEVICE)\n",
    "        \n",
    "        \n",
    "        ## SUPERVISED DATA\n",
    "        try:\n",
    "            data ,targets = next(label_train_iter)\n",
    "        except StopIteration:\n",
    "            label_train_iter = iter(train_data_loader)\n",
    "            data, targets = next(label_train_iter)\n",
    "        \n",
    "        data = data.to(device = DEVICE)\n",
    "        targets = targets.float().unsqueeze(1).to(device=DEVICE)\n",
    "\n",
    "        # forward\n",
    "        with torch.cuda.amp.autocast():\n",
    "            ## unsupervised part for consistency loss\n",
    "            ref_mask = model(un_img)\n",
    "            aug_mask = model(un_aug_img)\n",
    "            \n",
    "            # ref_mask = torch.sigmoid(ref_mask)\n",
    "            # aug_mask = torch.sigmoid(aug_mask)\n",
    "            consistency_loss = loss_fn(aug_mask, ref_mask)\n",
    "            \n",
    "            ## supervised part\n",
    "            predictions = model(data)\n",
    "            sup_loss = loss_fn(predictions, targets)\n",
    "        \n",
    "        ## CALCULATING NET LOSS\n",
    "        loss = sup_loss + LAMBDA*consistency_loss \n",
    "\n",
    "        # backward\n",
    "        optimizer.zero_grad()\n",
    "        scaler.scale(loss).backward()\n",
    "        scaler.step(optimizer)\n",
    "        scaler.update()\n",
    "\n",
    "        iou_train = iou_fn(predictions.to(\"cpu\"), ((targets > 0)*1).to(\"cpu\"))\n",
    "        total_train_iou += iou_train.item()\n",
    "        # loop.set_postfix(loss=loss.item(), iou_loss = iou_train_loss)\n",
    "        total_train_loss += loss.item()\n",
    "        x = optimizer.param_groups[0][\"lr\"]\n",
    "        print(f\" Epoch - {epoch+1}, Step - {batch_idx+1}/{len(uda_data_loader)}, Lr - {x}, Training_Loss - {round(total_train_loss/(batch_idx+1), 4)}, Train_mIOU - {round(total_train_iou/(batch_idx+1), 4)}\", end=\"\\r\")\n",
    "    total_train_loss = total_train_loss/(batch_idx+1)\n",
    "    total_train_iou = total_train_iou/(batch_idx+1)\n",
    "    train_loss.append(total_train_loss)\n",
    "    train_iou.append(total_train_iou)\n",
    "    scheduler.step()\n",
    "    with torch.no_grad():\n",
    "        for batch_idx, (data, targets) in enumerate(val_data_loader):\n",
    "            data = data.to(device=DEVICE)\n",
    "            targets = targets.float().unsqueeze(1).to(device=DEVICE)\n",
    "\n",
    "            predictions = model(data)\n",
    "            loss = loss_fn(predictions, targets)\n",
    "            total_val_loss += loss.item()\n",
    "            iou_val = iou_fn(predictions.to(\"cpu\"), ((targets > 0)*1).to(\"cpu\"))\n",
    "            total_val_iou += iou_val.item()\n",
    "            # val_loop.set_postfix(val_loss=loss.item(), iou_loss = iou_val_loss)\n",
    "    total_val_loss = total_val_loss/(batch_idx+1)\n",
    "    total_val_iou = total_val_iou/(batch_idx+1)\n",
    "    val_loss.append(total_val_loss)\n",
    "    val_iou.append(total_val_iou)\n",
    "    print(f\" Epoch - {epoch+1}, Training_Loss - {round(total_train_loss, 4)}, Train_mIOU - {round(total_train_iou, 4)}, Validation_Loss - {round(total_val_loss, 4)}, val_mIOU - {round(total_val_iou, 4)}\")\n",
    "\n",
    "    if total_val_iou>max_val_iou:\n",
    "        print(f\"Validation mIOU increased from {max_val_iou} to {total_val_iou}, Saving Model....\")\n",
    "        torch.save(model.state_dict(), \"best_model_uda.ckpt\")\n",
    "        max_val_iou = total_val_iou"
   ]
  },
  {
   "cell_type": "code",
   "execution_count": null,
   "id": "66f362f0-70f9-4db4-a29f-e81c723be43b",
   "metadata": {},
   "outputs": [],
   "source": [
    "plt.plot(train_loss, label=\"train-loss\")\n",
    "plt.plot(val_loss, label=\"validation-loss\")\n",
    "plt.legend()\n",
    "plt.savefig(\"results/uda_unet_loss.png\")"
   ]
  },
  {
   "cell_type": "code",
   "execution_count": 10,
   "id": "e2cb6fa7-a77d-427c-87f1-95f967a62f02",
   "metadata": {},
   "outputs": [
    {
     "data": {
      "image/png": "[encoded data removed]",
      "text/plain": [
       "<Figure size 640x480 with 1 Axes>"
      ]
     },
     "metadata": {},
     "output_type": "display_data"
    }
   ],
   "source": [
    "plt.plot(train_iou, label = \"training-mIOU\")\n",
    "plt.plot(val_iou, label = \"validation-mIOU\")\n",
    "plt.legend()\n",
    "plt.savefig(\"results/uda_unet_miou.png\")"
   ]
  },
  {
   "cell_type": "code",
   "execution_count": 16,
   "id": "9de7a3b4-3c63-4250-bcef-443968ca0f0d",
   "metadata": {},
   "outputs": [
    {
     "name": "stdout",
     "output_type": "stream",
     "text": [
      "Evaluation mode on\n"
     ]
    }
   ],
   "source": [
    "chkpt = torch.load(\"weights/unet.ckpt\", map_location=DEVICE)\n",
    "model.load_state_dict(chkpt)\n",
    "model.eval()\n",
    "print(\"Evaluation mode on\")"
   ]
  },
  {
   "cell_type": "code",
   "execution_count": 63,
   "id": "8b8cd43c-0452-4c1f-9e82-e6787f30371e",
   "metadata": {},
   "outputs": [
    {
     "name": "stderr",
     "output_type": "stream",
     "text": [
      "100%|██████████| 7000/7000 [13:28<00:00,  8.65it/s]\n"
     ]
    }
   ],
   "source": [
    "dest = \"generated_unets\"\n",
    "cnt = 1\n",
    "for i in tqdm(os.listdir(UNSUPERVISED_DIR)):\n",
    "    img_path = UNSUPERVISED_DIR + \"/\" + i\n",
    "    orig_img = cv2.resize(cv2.cvtColor(cv2.imread(img_path), cv2.COLOR_BGR2RGB), (IMAGE_WIDTH, IMAGE_HEIGHT))\n",
    "    trans_img = test_transform(image = orig_img)[\"image\"]\n",
    "    trans_img = trans_img.to(DEVICE).unsqueeze(0)\n",
    "    cv2.imwrite(dest+\"/img/\" + str(cnt).zfill(4) + \".png\", cv2.cvtColor(orig_img, cv2.COLOR_RGB2BGR))\n",
    "    cv2.imwrite(dest+\"/unet_mask/\" + str(cnt).zfill(4) + \".png\", np.uint8(model(trans_img).squeeze().detach().cpu().numpy()>0)*255)\n",
    "    cnt+=1"
   ]
  },
  {
   "cell_type": "code",
   "execution_count": 12,
   "id": "636eb803-b8a8-4968-87b2-4b88da3176ad",
   "metadata": {},
   "outputs": [],
   "source": [
    "test_transform = A.Compose([\n",
    "    A.Normalize (mean=(0.485, 0.456, 0.406), std=(0.229, 0.224, 0.225), max_pixel_value=255.0, p = 1.0), \n",
    "    ToTensorV2()\n",
    "])\n"
   ]
  },
  {
   "cell_type": "code",
   "execution_count": 17,
   "id": "e4912274-942b-4993-a3b4-1256e278f8c8",
   "metadata": {},
   "outputs": [
    {
     "name": "stdout",
     "output_type": "stream",
     "text": [
      "CPU times: user 21.3 ms, sys: 5.72 ms, total: 27 ms\n",
      "Wall time: 21.3 ms\n"
     ]
    }
   ],
   "source": [
    "%%time\n",
    "img = cv2.imread(\"test_data/drpremhospital_ccu_mon--E_2023_1_5_7_41_0.jpeg\")\n",
    "img = cv2.resize(cv2.cvtColor(img, cv2.COLOR_BGR2RGB), (IMAGE_WIDTH, IMAGE_HEIGHT))\n",
    "augmentations = test_transform(image=img)\n",
    "dat1 = augmentations[\"image\"]\n",
    "\n",
    "out1 = model(dat1.to(DEVICE).unsqueeze(0))\n",
    "\n",
    "out1 = out1.squeeze()"
   ]
  },
  {
   "cell_type": "code",
   "execution_count": 18,
   "id": "97b4392d-577c-4a98-bdb7-cf3f73f666b5",
   "metadata": {},
   "outputs": [
    {
     "data": {
      "text/plain": [
       "<matplotlib.image.AxesImage at 0x7f7ed01f98e0>"
      ]
     },
     "execution_count": 18,
     "metadata": {},
     "output_type": "execute_result"
    },
    {
     "data": {
      "image/png": "[encoded data removed]",
      "text/plain": [
       "<Figure size 640x480 with 1 Axes>"
      ]
     },
     "metadata": {},
     "output_type": "display_data"
    }
   ],
   "source": [
    "plt.imshow((out1.detach().cpu()>0))"
   ]
  },
  {
   "cell_type": "code",
   "execution_count": 19,
   "id": "b834b338-5676-4c98-a7a6-89c0cca48488",
   "metadata": {},
   "outputs": [
    {
     "data": {
      "text/plain": [
       "tensor([[-2.3285, -3.1923, -2.9185,  ..., -3.6111, -2.6466, -1.5339],\n",
       "        [-3.5232, -4.8171, -4.0694,  ..., -6.4019, -4.3417, -3.1318],\n",
       "        [-4.0815, -5.3266, -4.9444,  ..., -7.3886, -5.1482, -3.3936],\n",
       "        ...,\n",
       "        [-3.4995, -4.6030, -3.5862,  ..., -7.3634, -5.4154, -3.6445],\n",
       "        [-3.1506, -3.9105, -3.5019,  ..., -6.5212, -4.4634, -2.7516],\n",
       "        [-2.0549, -2.6087, -2.1929,  ..., -4.2615, -3.1520, -1.6643]],\n",
       "       device='cuda:0', grad_fn=<SqueezeBackward0>)"
      ]
     },
     "execution_count": 19,
     "metadata": {},
     "output_type": "execute_result"
    }
   ],
   "source": [
    "out1"
   ]
  },
  {
   "cell_type": "code",
   "execution_count": null,
   "id": "6f977142-2050-44ed-ae0b-c40148f986c9",
   "metadata": {},
   "outputs": [],
   "source": []
  }
 ],
 "metadata": {
  "kernelspec": {
   "display_name": "Python 3.8.10 64-bit",
   "language": "python",
   "name": "python3"
  },
  "language_info": {
   "codemirror_mode": {
    "name": "ipython",
    "version": 3
   },
   "file_extension": ".py",
   "mimetype": "text/x-python",
   "name": "python",
   "nbconvert_exporter": "python",
   "pygments_lexer": "ipython3",
   "version": "3.8.10"
  },
  "vscode": {
   "interpreter": {
    "hash": "916dbcbb3f70747c44a77c7bcd40155683ae19c65e1c03b4aa3499c5328201f1"
   }
  }
 },
 "nbformat": 4,
 "nbformat_minor": 5
}
