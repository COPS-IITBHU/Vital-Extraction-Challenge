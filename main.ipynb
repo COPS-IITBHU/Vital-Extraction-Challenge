{
 "cells": [
  {
   "cell_type": "code",
   "execution_count": 1,
   "id": "e2003fb0-d08f-4a0c-af8e-871116c98bd6",
   "metadata": {},
   "outputs": [
    {
     "name": "stdout",
     "output_type": "stream",
     "text": [
      "Requirement already satisfied: transformers in /srv/conda/envs/notebook/lib/python3.9/site-packages (4.26.0)\n",
      "Requirement already satisfied: requests in /srv/conda/envs/notebook/lib/python3.9/site-packages (from transformers) (2.28.1)\n",
      "Requirement already satisfied: packaging>=20.0 in /srv/conda/envs/notebook/lib/python3.9/site-packages (from transformers) (21.3)\n",
      "Requirement already satisfied: numpy>=1.17 in /srv/conda/envs/notebook/lib/python3.9/site-packages (from transformers) (1.23.3)\n",
      "Requirement already satisfied: pyyaml>=5.1 in /srv/conda/envs/notebook/lib/python3.9/site-packages (from transformers) (5.4.1)\n",
      "Requirement already satisfied: filelock in /srv/conda/envs/notebook/lib/python3.9/site-packages (from transformers) (3.8.0)\n",
      "Requirement already satisfied: huggingface-hub<1.0,>=0.11.0 in /srv/conda/envs/notebook/lib/python3.9/site-packages (from transformers) (0.12.0)\n",
      "Requirement already satisfied: regex!=2019.12.17 in /srv/conda/envs/notebook/lib/python3.9/site-packages (from transformers) (2022.10.31)\n",
      "Requirement already satisfied: tokenizers!=0.11.3,<0.14,>=0.11.1 in /srv/conda/envs/notebook/lib/python3.9/site-packages (from transformers) (0.13.2)\n",
      "Requirement already satisfied: tqdm>=4.27 in /srv/conda/envs/notebook/lib/python3.9/site-packages (from transformers) (4.64.1)\n",
      "Requirement already satisfied: typing-extensions>=3.7.4.3 in /srv/conda/envs/notebook/lib/python3.9/site-packages (from huggingface-hub<1.0,>=0.11.0->transformers) (4.3.0)\n",
      "Requirement already satisfied: pyparsing!=3.0.5,>=2.0.2 in /srv/conda/envs/notebook/lib/python3.9/site-packages (from packaging>=20.0->transformers) (3.0.9)\n",
      "Requirement already satisfied: charset-normalizer<3,>=2 in /srv/conda/envs/notebook/lib/python3.9/site-packages (from requests->transformers) (2.1.1)\n",
      "Requirement already satisfied: urllib3<1.27,>=1.21.1 in /srv/conda/envs/notebook/lib/python3.9/site-packages (from requests->transformers) (1.26.11)\n",
      "Requirement already satisfied: idna<4,>=2.5 in /srv/conda/envs/notebook/lib/python3.9/site-packages (from requests->transformers) (3.3)\n",
      "Requirement already satisfied: certifi>=2017.4.17 in /srv/conda/envs/notebook/lib/python3.9/site-packages (from requests->transformers) (2022.9.14)\n",
      "Requirement already satisfied: albumentations in /srv/conda/envs/notebook/lib/python3.9/site-packages (1.3.0)\n",
      "Requirement already satisfied: opencv-python-headless>=4.1.1 in /srv/conda/envs/notebook/lib/python3.9/site-packages (from albumentations) (4.7.0.68)\n",
      "Requirement already satisfied: qudida>=0.0.4 in /srv/conda/envs/notebook/lib/python3.9/site-packages (from albumentations) (0.0.4)\n",
      "Requirement already satisfied: scikit-image>=0.16.1 in /srv/conda/envs/notebook/lib/python3.9/site-packages (from albumentations) (0.19.3)\n",
      "Requirement already satisfied: PyYAML in /srv/conda/envs/notebook/lib/python3.9/site-packages (from albumentations) (5.4.1)\n",
      "Requirement already satisfied: scipy in /srv/conda/envs/notebook/lib/python3.9/site-packages (from albumentations) (1.9.1)\n",
      "Requirement already satisfied: numpy>=1.11.1 in /srv/conda/envs/notebook/lib/python3.9/site-packages (from albumentations) (1.23.3)\n",
      "Requirement already satisfied: typing-extensions in /srv/conda/envs/notebook/lib/python3.9/site-packages (from qudida>=0.0.4->albumentations) (4.3.0)\n",
      "Requirement already satisfied: scikit-learn>=0.19.1 in /srv/conda/envs/notebook/lib/python3.9/site-packages (from qudida>=0.0.4->albumentations) (1.1.2)\n",
      "Requirement already satisfied: packaging>=20.0 in /srv/conda/envs/notebook/lib/python3.9/site-packages (from scikit-image>=0.16.1->albumentations) (21.3)\n",
      "Requirement already satisfied: pillow!=7.1.0,!=7.1.1,!=8.3.0,>=6.1.0 in /srv/conda/envs/notebook/lib/python3.9/site-packages (from scikit-image>=0.16.1->albumentations) (9.2.0)\n",
      "Requirement already satisfied: imageio>=2.4.1 in /srv/conda/envs/notebook/lib/python3.9/site-packages (from scikit-image>=0.16.1->albumentations) (2.21.3)\n",
      "Requirement already satisfied: tifffile>=2019.7.26 in /srv/conda/envs/notebook/lib/python3.9/site-packages (from scikit-image>=0.16.1->albumentations) (2022.8.12)\n",
      "Requirement already satisfied: PyWavelets>=1.1.1 in /srv/conda/envs/notebook/lib/python3.9/site-packages (from scikit-image>=0.16.1->albumentations) (1.3.0)\n",
      "Requirement already satisfied: networkx>=2.2 in /srv/conda/envs/notebook/lib/python3.9/site-packages (from scikit-image>=0.16.1->albumentations) (2.8.6)\n",
      "Requirement already satisfied: pyparsing!=3.0.5,>=2.0.2 in /srv/conda/envs/notebook/lib/python3.9/site-packages (from packaging>=20.0->scikit-image>=0.16.1->albumentations) (3.0.9)\n",
      "Requirement already satisfied: threadpoolctl>=2.0.0 in /srv/conda/envs/notebook/lib/python3.9/site-packages (from scikit-learn>=0.19.1->qudida>=0.0.4->albumentations) (3.1.0)\n",
      "Requirement already satisfied: joblib>=1.0.0 in /srv/conda/envs/notebook/lib/python3.9/site-packages (from scikit-learn>=0.19.1->qudida>=0.0.4->albumentations) (1.2.0)\n"
     ]
    }
   ],
   "source": [
    "!pip install transformers\n",
    "!pip install albumentations"
   ]
  },
  {
   "cell_type": "code",
   "execution_count": 1,
   "id": "4d6048c0-5462-44db-9f01-1b4f83c0011f",
   "metadata": {},
   "outputs": [
    {
     "name": "stderr",
     "output_type": "stream",
     "text": [
      "/media/amshra267/sa44/cloudphy/env/lib/python3.8/site-packages/tqdm/auto.py:22: TqdmWarning: IProgress not found. Please update jupyter and ipywidgets. See https://ipywidgets.readthedocs.io/en/stable/user_install.html\n",
      "  from .autonotebook import tqdm as notebook_tqdm\n",
      "Downloading: \"https://download.pytorch.org/models/resnet34-333f7ec4.pth\" to /home/amshra267/.cache/torch/hub/checkpoints/resnet34-333f7ec4.pth\n",
      "100%|██████████| 83.3M/83.3M [01:56<00:00, 746kB/s] \n"
     ]
    }
   ],
   "source": [
    "## STANDARD LIBRARY AND PIPELINE MODULES IMPORT\n",
    "\n",
    "from  pipeline import segmentation\n",
    "from pipeline import correct_perspective\n",
    "from pipeline import text_detection\n",
    "from pipeline import OCR\n",
    "import os\n",
    "import cv2\n",
    "import matplotlib.pyplot as plt\n",
    "\n"
   ]
  },
  {
   "cell_type": "code",
   "execution_count": null,
   "id": "63f59cca-1480-47e7-9c35-39a278fb9c60",
   "metadata": {},
   "outputs": [],
   "source": [
    "## EVALUATION ON EACH IMAGE\n",
    "\n",
    "TEST_IMG_DIR = \"test_data\"\n",
    "imlis = os.listdir(TEST_IMG_DIR)\n",
    "imloc = f\"{TEST_IMG_DIR}/{imlis[9]}\"\n",
    "\n",
    "data = cv2.imread(imloc)\n",
    "mask = segmentation.maskPred(imloc)\n",
    "# print(mask)\n",
    "monitor =  correct_perspective.correctPerspective(data, mask)\n",
    "\n",
    "bounding_boxes = text_detection.boundingBoxes(monitor)\n",
    "\n",
    "print(bounding_boxes)\n",
    "\n",
    "fig, ax = plt.subplots(len(bounding_boxes) + 1)\n",
    "\n",
    "for idx,bounding_box in enumerate(bounding_boxes):\n",
    "    text, crop = OCR.trOCR(monitor, bounding_box)\n",
    "\n",
    "    print(text)\n",
    "    ax[idx].imshow(crop)\n",
    "ax[-1].imshow(monitor)"
   ]
  }
 ],
 "metadata": {
  "kernelspec": {
   "display_name": "env",
   "language": "python",
   "name": "python3"
  },
  "language_info": {
   "codemirror_mode": {
    "name": "ipython",
    "version": 3
   },
   "file_extension": ".py",
   "mimetype": "text/x-python",
   "name": "python",
   "nbconvert_exporter": "python",
   "pygments_lexer": "ipython3",
   "version": "3.8.16 (default, Dec  7 2022, 01:12:13) \n[GCC 7.5.0]"
  },
  "vscode": {
   "interpreter": {
    "hash": "ddd4d059d57b24667b9aec599ce6ca65a74fe89275a814d656e3c17a4a9e6734"
   }
  }
 },
 "nbformat": 4,
 "nbformat_minor": 5
}
